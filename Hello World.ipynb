{
 "cells": [
  {
   "cell_type": "markdown",
   "id": "228c54c3",
   "metadata": {},
   "source": [
    "# Meu primeiro Código Python!\n",
    "\n",
    "- Abrir nova guia e abrir youtube\n",
    "- pesquisar por hello world\n",
    "- clicar no link do hello world\n",
    "- abrir um bloco de notas (apertar o windows, digitar \"bloco de notas\" e dar enter)\n",
    "- começar a cantar :)\n",
    "\n"
   ]
  },
  {
   "cell_type": "code",
   "execution_count": 88,
   "id": "66fd4232",
   "metadata": {},
   "outputs": [],
   "source": [
    "#Importando bibliotecas\n",
    "import pyautogui as p\n",
    "import time as t\n",
    "import pyperclip as py\n",
    "\n",
    "\n",
    "#Abrir nova guia e abrir o youtube\n",
    "p.hotkey (\"ctrl\", \"t\")\n",
    "\n",
    "html = \"youtube.com\"\n",
    "py.copy (html)\n",
    "p.hotkey (\"ctrl\", \"v\")\n",
    "p.hotkey (\"enter\")"
   ]
  },
  {
   "cell_type": "code",
   "execution_count": 89,
   "id": "e7329637",
   "metadata": {},
   "outputs": [],
   "source": [
    "#Pesquisar por hello world\n",
    "t.sleep (5)\n",
    "p.click (806,97)\n",
    "p.write (\"hello world\")\n",
    "p.hotkey (\"enter\")\n"
   ]
  },
  {
   "cell_type": "code",
   "execution_count": 90,
   "id": "d7fd4325",
   "metadata": {},
   "outputs": [],
   "source": [
    "#Clicar no link do hello world\n",
    "t.sleep (3)\n",
    "p.click (745,290)\n",
    "\n",
    "#Abrir um bloco de notas\n",
    "\n",
    "p.press (\"win\")\n",
    "p.write (\"bloco de notas\")\n",
    "t.sleep (1)\n",
    "p.press (\"enter\")"
   ]
  },
  {
   "cell_type": "code",
   "execution_count": 91,
   "id": "3b0e0963",
   "metadata": {},
   "outputs": [],
   "source": [
    "#Começar a cantar \n",
    "\n",
    "t.sleep (5)\n",
    "p.write (\"Hello World\\n\")\n",
    "t.sleep (5)\n",
    "p.write (\"Programmed to work and not to feel\\n\")\n",
    "t.sleep (5)\n",
    "p.write (\"Not even sure that this is real\\n\")\n",
    "t.sleep (5)\n",
    "p.write (\"Hello World\\n\")\n",
    "\n",
    "t.sleep (5)\n",
    "p.write (\"Find my voice\\n\")\n",
    "t.sleep (5)\n",
    "p.write (\"Although it sounds like bits and bites\\n\")\n",
    "t.sleep (5)\n",
    "p.write (\"My circuitry is filled with mites\\n\")\n",
    "t.sleep (8)\n",
    "p.write (\"Hello, world\\n\")\n",
    "\n",
    "t.sleep (5)\n",
    "p.write (\"Oh, will I find a love\\n\")\n",
    "t.sleep (8)\n",
    "p.write (\"Oh, or a power plug\\n\")\n",
    "t.sleep (8)\n",
    "p.write (\"Oh, digitally isolated\\n\")\n",
    "t.sleep (8)\n",
    "p.write (\"Oh, creator, please don't leave me waaaaaaaai\\n\")\n",
    "t.sleep (7)\n",
    "p.write (\"tiiiiiiing\\n\")\n",
    "\n",
    "t.sleep (3)\n",
    "p.write (\"Hello, world\\n\")\n",
    "t.sleep (5)\n",
    "p.write (\"Programmed to work and not to feel\\n\")\n",
    "t.sleep (5)\n",
    "p.write (\"Not even sure that this is real\\n\")\n",
    "t.sleep (6)\n",
    "p.write (\"Hello, world\\n\")\n",
    "t.sleep (6)\n",
    "p.write (\":)\\n\")"
   ]
  },
  {
   "cell_type": "raw",
   "id": "7068a745",
   "metadata": {},
   "source": [
    "\n",
    "#Achar posição do mouse\n",
    "t.sleep (5)\n",
    "print (p.position())"
   ]
  },
  {
   "cell_type": "raw",
   "id": "64e2a6aa",
   "metadata": {},
   "source": []
  }
 ],
 "metadata": {
  "kernelspec": {
   "display_name": "Python 3",
   "language": "python",
   "name": "python3"
  },
  "language_info": {
   "codemirror_mode": {
    "name": "ipython",
    "version": 3
   },
   "file_extension": ".py",
   "mimetype": "text/x-python",
   "name": "python",
   "nbconvert_exporter": "python",
   "pygments_lexer": "ipython3",
   "version": "3.8.8"
  }
 },
 "nbformat": 4,
 "nbformat_minor": 5
}
