{
 "cells": [
  {
   "cell_type": "markdown",
   "id": "0ce509a6",
   "metadata": {},
   "source": [
    "# Código de Ditar para o computador\n",
    "Ele dita o que você disser!\n"
   ]
  },
  {
   "cell_type": "code",
   "execution_count": 38,
   "id": "712c889d",
   "metadata": {},
   "outputs": [
    {
     "name": "stdout",
     "output_type": "stream",
     "text": [
      "Writing Ditar.py\n"
     ]
    }
   ],
   "source": [
    "##%%writefile -a Ditar.py\n",
    "\n",
    "import speech_recognition as sr \n",
    "import pyautogui as p\n",
    "import pyperclip as py\n",
    "import time as t\n",
    "\n",
    "\n",
    "r = sr.Recognizer()\n",
    "\n",
    "mic = sr.Microphone();\n",
    "\n",
    "x = 0\n",
    "\n",
    "t.sleep (3)\n",
    "\n",
    "while x == 0:\n",
    "    with mic as source:\n",
    "        r.adjust_for_ambient_noise(source)\n",
    "        audio = r.listen(source)\n",
    "        saida = r.recognize_google(audio, language = 'pt-BR')\n",
    "       \n",
    "        if saida == (\"parar\"):\n",
    "            x = 1\n",
    "            p.write (\"parando de escrever com python\")\n",
    "        else:\n",
    "            py.copy (saida)\n",
    "            p.hotkey (\"ctrl\", \"v\")\n",
    "        p.press (\"enter\")\n",
    "        "
   ]
  },
  {
   "cell_type": "code",
   "execution_count": null,
   "id": "491ff573",
   "metadata": {},
   "outputs": [],
   "source": []
  }
 ],
 "metadata": {
  "kernelspec": {
   "display_name": "Python 3",
   "language": "python",
   "name": "python3"
  },
  "language_info": {
   "codemirror_mode": {
    "name": "ipython",
    "version": 3
   },
   "file_extension": ".py",
   "mimetype": "text/x-python",
   "name": "python",
   "nbconvert_exporter": "python",
   "pygments_lexer": "ipython3",
   "version": "3.8.8"
  }
 },
 "nbformat": 4,
 "nbformat_minor": 5
}
